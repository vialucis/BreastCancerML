{
  "nbformat": 4,
  "nbformat_minor": 0,
  "metadata": {
    "colab": {
      "name": "MLBreastCancer.ipynb",
      "provenance": [],
      "collapsed_sections": [],
      "include_colab_link": true
    },
    "kernelspec": {
      "name": "python3",
      "display_name": "Python 3"
    }
  },
  "cells": [
    {
      "cell_type": "markdown",
      "metadata": {
        "id": "view-in-github",
        "colab_type": "text"
      },
      "source": [
        "<a href=\"https://colab.research.google.com/github/vialucis/BreastCancerML/blob/master/MLBreastCancer.ipynb\" target=\"_parent\"><img src=\"https://colab.research.google.com/assets/colab-badge.svg\" alt=\"Open In Colab\"/></a>"
      ]
    },
    {
      "cell_type": "code",
      "metadata": {
        "id": "QuIqTTV6Vrez",
        "colab_type": "code",
        "colab": {}
      },
      "source": [
        "import tensorflow as tf\n",
        "import tensorflow.keras as keras\n",
        "import numpy as np\n",
        "import pandas as pd\n",
        "import matplotlib.pyplot as plt"
      ],
      "execution_count": 0,
      "outputs": []
    },
    {
      "cell_type": "code",
      "metadata": {
        "id": "jHVIiInVWx4g",
        "colab_type": "code",
        "colab": {}
      },
      "source": [
        "#load data\n",
        "load data from csv\n",
        "\n",
        "https://drive.google.com/open?id=1giW1Y_R2Wywu9eoVyo4gp62F8eFMflne"
      ],
      "execution_count": 0,
      "outputs": []
    },
    {
      "cell_type": "code",
      "metadata": {
        "id": "TKGXeR-DW0E6",
        "colab_type": "code",
        "colab": {}
      },
      "source": [
        "#prepare picture data for non-deep learning algos"
      ],
      "execution_count": 0,
      "outputs": []
    },
    {
      "cell_type": "code",
      "metadata": {
        "id": "WTx6VUiyW1eD",
        "colab_type": "code",
        "colab": {}
      },
      "source": [
        "#define functions k-NN, SVM, Regression\n",
        "\n",
        "def kNN (xtrain, ytrain):\n",
        "  break\n",
        "\n",
        "def SVM (xtrain, ytrain):\n",
        "  break"
      ],
      "execution_count": 0,
      "outputs": []
    },
    {
      "cell_type": "code",
      "metadata": {
        "id": "V090tQ8jZFeT",
        "colab_type": "code",
        "colab": {}
      },
      "source": [
        "#Resnet-network"
      ],
      "execution_count": 0,
      "outputs": []
    },
    {
      "cell_type": "code",
      "metadata": {
        "id": "kf8qqgEnZLJP",
        "colab_type": "code",
        "colab": {}
      },
      "source": [
        "#Adjustments"
      ],
      "execution_count": 0,
      "outputs": []
    }
  ]
}